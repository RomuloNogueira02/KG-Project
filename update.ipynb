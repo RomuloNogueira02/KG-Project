{
 "cells": [
  {
   "cell_type": "code",
   "execution_count": 4,
   "metadata": {},
   "outputs": [],
   "source": [
    "from ontologyAlignment import OntologyAlignment"
   ]
  },
  {
   "cell_type": "code",
   "execution_count": 61,
   "metadata": {},
   "outputs": [],
   "source": [
    "from sentence_transformers import SentenceTransformer, util"
   ]
  },
  {
   "cell_type": "code",
   "execution_count": 5,
   "metadata": {},
   "outputs": [],
   "source": [
    "%reload_ext autoreload\n",
    "%autoreload 2"
   ]
  },
  {
   "cell_type": "code",
   "execution_count": 50,
   "metadata": {},
   "outputs": [
    {
     "name": "stderr",
     "output_type": "stream",
     "text": [
      "c:\\Users\\letic\\AppData\\Local\\Programs\\Python\\Python311\\Lib\\site-packages\\huggingface_hub\\file_download.py:1132: FutureWarning: `resume_download` is deprecated and will be removed in version 1.0.0. Downloads always resume when possible. If you want to force a new download, use `force_download=True`.\n",
      "  warnings.warn(\n"
     ]
    }
   ],
   "source": [
    "oa = OntologyAlignment()"
   ]
  },
  {
   "cell_type": "code",
   "execution_count": 51,
   "metadata": {},
   "outputs": [],
   "source": [
    "oa.load_ontology('./ontologies/anatomy/mouse.owl')"
   ]
  },
  {
   "cell_type": "code",
   "execution_count": 52,
   "metadata": {},
   "outputs": [],
   "source": [
    "oa.load_ontology('./ontologies/anatomy/human.owl')"
   ]
  },
  {
   "cell_type": "code",
   "execution_count": 53,
   "metadata": {},
   "outputs": [],
   "source": [
    "oa.compute_lexical_similarity()"
   ]
  },
  {
   "cell_type": "code",
   "execution_count": 55,
   "metadata": {},
   "outputs": [
    {
     "data": {
      "text/plain": [
       "4145"
      ]
     },
     "execution_count": 55,
     "metadata": {},
     "output_type": "execute_result"
    }
   ],
   "source": [
    "words = {palavra[1] for tupla in oa.remaining.keys() for palavra in tupla}"
   ]
  },
  {
   "cell_type": "code",
   "execution_count": 56,
   "metadata": {},
   "outputs": [],
   "source": [
    "oa.load_embeddings(words)"
   ]
  },
  {
   "cell_type": "code",
   "execution_count": 62,
   "metadata": {},
   "outputs": [],
   "source": [
    "lexical_cosine_similarity = {}\n",
    "for t in oa.remaining.items():\n",
    "    embedding1 = oa.string_embedding[t[0][0][1]]\n",
    "    embedding2 = oa.string_embedding[t[0][1][1]]\n",
    "    lexical_cosine_similarity[t[0]] = max(t[1], util.cos_sim(embedding1, embedding2)[0][0].item())\n",
    "\n",
    "oa.final_alignment.update(lexical_cosine_similarity)\n",
    "oa.remaining.clear()"
   ]
  },
  {
   "cell_type": "code",
   "execution_count": 63,
   "metadata": {},
   "outputs": [
    {
     "data": {
      "text/plain": [
       "(4217521, 0)"
      ]
     },
     "execution_count": 63,
     "metadata": {},
     "output_type": "execute_result"
    }
   ],
   "source": [
    "len(oa.final_alignment), len(oa.remaining)"
   ]
  },
  {
   "cell_type": "code",
   "execution_count": 65,
   "metadata": {},
   "outputs": [],
   "source": [
    "oa.final_alignment = {key: value for key, value in oa.final_alignment.items() if value >= 0.75}"
   ]
  },
  {
   "cell_type": "code",
   "execution_count": 67,
   "metadata": {},
   "outputs": [
    {
     "data": {
      "text/plain": [
       "3542"
      ]
     },
     "execution_count": 67,
     "metadata": {},
     "output_type": "execute_result"
    }
   ],
   "source": [
    "len(oa.final_alignment)"
   ]
  },
  {
   "cell_type": "code",
   "execution_count": 70,
   "metadata": {},
   "outputs": [
    {
     "data": {
      "text/html": [
       "<div>\n",
       "<style scoped>\n",
       "    .dataframe tbody tr th:only-of-type {\n",
       "        vertical-align: middle;\n",
       "    }\n",
       "\n",
       "    .dataframe tbody tr th {\n",
       "        vertical-align: top;\n",
       "    }\n",
       "\n",
       "    .dataframe thead th {\n",
       "        text-align: right;\n",
       "    }\n",
       "</style>\n",
       "<table border=\"1\" class=\"dataframe\">\n",
       "  <thead>\n",
       "    <tr style=\"text-align: right;\">\n",
       "      <th></th>\n",
       "      <th>uri_o1</th>\n",
       "      <th>label_o1</th>\n",
       "      <th>uri_o2</th>\n",
       "      <th>label_o2</th>\n",
       "      <th>score</th>\n",
       "    </tr>\n",
       "  </thead>\n",
       "  <tbody>\n",
       "    <tr>\n",
       "      <th>0</th>\n",
       "      <td>mouse.MA_0000216</td>\n",
       "      <td>spinal cord</td>\n",
       "      <td>human.NCI_C12464</td>\n",
       "      <td>spinal cord</td>\n",
       "      <td>1.000000</td>\n",
       "    </tr>\n",
       "    <tr>\n",
       "      <th>635</th>\n",
       "      <td>mouse.MA_0001972</td>\n",
       "      <td>common iliac artery</td>\n",
       "      <td>human.NCI_C32357</td>\n",
       "      <td>common iliac artery</td>\n",
       "      <td>1.000000</td>\n",
       "    </tr>\n",
       "    <tr>\n",
       "      <th>623</th>\n",
       "      <td>mouse.MA_0001938</td>\n",
       "      <td>communicating artery</td>\n",
       "      <td>human.NCI_C52851</td>\n",
       "      <td>communicating artery</td>\n",
       "      <td>1.000000</td>\n",
       "    </tr>\n",
       "    <tr>\n",
       "      <th>624</th>\n",
       "      <td>mouse.MA_0001944</td>\n",
       "      <td>dorsal metacarpal artery</td>\n",
       "      <td>human.NCI_C52980</td>\n",
       "      <td>dorsal metacarpal artery</td>\n",
       "      <td>1.000000</td>\n",
       "    </tr>\n",
       "    <tr>\n",
       "      <th>625</th>\n",
       "      <td>mouse.MA_0001945</td>\n",
       "      <td>dorsal nasal artery</td>\n",
       "      <td>human.NCI_C52983</td>\n",
       "      <td>dorsal nasal artery</td>\n",
       "      <td>1.000000</td>\n",
       "    </tr>\n",
       "    <tr>\n",
       "      <th>...</th>\n",
       "      <td>...</td>\n",
       "      <td>...</td>\n",
       "      <td>...</td>\n",
       "      <td>...</td>\n",
       "      <td>...</td>\n",
       "    </tr>\n",
       "    <tr>\n",
       "      <th>1377</th>\n",
       "      <td>mouse.MA_0000448</td>\n",
       "      <td>peritoneal cavity greater sac</td>\n",
       "      <td>human.NCI_C33880</td>\n",
       "      <td>visceral part of the peritoneum</td>\n",
       "      <td>0.751517</td>\n",
       "    </tr>\n",
       "    <tr>\n",
       "      <th>1731</th>\n",
       "      <td>mouse.MA_0000974</td>\n",
       "      <td>olfactory bulb subependymal zone</td>\n",
       "      <td>human.NCI_C32100</td>\n",
       "      <td>anterior olfactory lobule</td>\n",
       "      <td>0.751419</td>\n",
       "    </tr>\n",
       "    <tr>\n",
       "      <th>1975</th>\n",
       "      <td>mouse.MA_0001198</td>\n",
       "      <td>stria vascularis</td>\n",
       "      <td>human.NCI_C33632</td>\n",
       "      <td>striae medullares</td>\n",
       "      <td>0.751155</td>\n",
       "    </tr>\n",
       "    <tr>\n",
       "      <th>3236</th>\n",
       "      <td>mouse.MA_0002283</td>\n",
       "      <td>cricoarytenoid</td>\n",
       "      <td>human.NCI_C32397</td>\n",
       "      <td>cricoarytenoid joint</td>\n",
       "      <td>0.751040</td>\n",
       "    </tr>\n",
       "    <tr>\n",
       "      <th>2813</th>\n",
       "      <td>mouse.MA_0001838</td>\n",
       "      <td>bronchus elastic framework</td>\n",
       "      <td>human.NCI_C49211</td>\n",
       "      <td>bronchus elastic tissue</td>\n",
       "      <td>0.750498</td>\n",
       "    </tr>\n",
       "  </tbody>\n",
       "</table>\n",
       "<p>1474 rows × 5 columns</p>\n",
       "</div>"
      ],
      "text/plain": [
       "                uri_o1                          label_o1            uri_o2  \\\n",
       "0     mouse.MA_0000216                       spinal cord  human.NCI_C12464   \n",
       "635   mouse.MA_0001972               common iliac artery  human.NCI_C32357   \n",
       "623   mouse.MA_0001938              communicating artery  human.NCI_C52851   \n",
       "624   mouse.MA_0001944          dorsal metacarpal artery  human.NCI_C52980   \n",
       "625   mouse.MA_0001945               dorsal nasal artery  human.NCI_C52983   \n",
       "...                ...                               ...               ...   \n",
       "1377  mouse.MA_0000448     peritoneal cavity greater sac  human.NCI_C33880   \n",
       "1731  mouse.MA_0000974  olfactory bulb subependymal zone  human.NCI_C32100   \n",
       "1975  mouse.MA_0001198                  stria vascularis  human.NCI_C33632   \n",
       "3236  mouse.MA_0002283                    cricoarytenoid  human.NCI_C32397   \n",
       "2813  mouse.MA_0001838        bronchus elastic framework  human.NCI_C49211   \n",
       "\n",
       "                             label_o2     score  \n",
       "0                         spinal cord  1.000000  \n",
       "635               common iliac artery  1.000000  \n",
       "623              communicating artery  1.000000  \n",
       "624          dorsal metacarpal artery  1.000000  \n",
       "625               dorsal nasal artery  1.000000  \n",
       "...                               ...       ...  \n",
       "1377  visceral part of the peritoneum  0.751517  \n",
       "1731        anterior olfactory lobule  0.751419  \n",
       "1975                striae medullares  0.751155  \n",
       "3236             cricoarytenoid joint  0.751040  \n",
       "2813          bronchus elastic tissue  0.750498  \n",
       "\n",
       "[1474 rows x 5 columns]"
      ]
     },
     "execution_count": 70,
     "metadata": {},
     "output_type": "execute_result"
    }
   ],
   "source": [
    "final"
   ]
  }
 ],
 "metadata": {
  "kernelspec": {
   "display_name": "Python 3",
   "language": "python",
   "name": "python3"
  },
  "language_info": {
   "codemirror_mode": {
    "name": "ipython",
    "version": 3
   },
   "file_extension": ".py",
   "mimetype": "text/x-python",
   "name": "python",
   "nbconvert_exporter": "python",
   "pygments_lexer": "ipython3",
   "version": "3.11.9"
  }
 },
 "nbformat": 4,
 "nbformat_minor": 2
}
